{
 "cells": [
  {
   "cell_type": "code",
   "execution_count": 1,
   "id": "f824effd-5c35-4ac3-a4f8-6fff8c257a22",
   "metadata": {},
   "outputs": [],
   "source": [
    "import pickle as pkl\n",
    "F_family = open('/home/defuc/sensei-fs-symlink/users/defuc/workspace/SVG_Informer_family_cls/family.pkl','rb')\n",
    "data_famliy = pkl.load(F_family)"
   ]
  },
  {
   "cell_type": "code",
   "execution_count": 14,
   "id": "3287d419-a2dc-48d1-aab7-8331acd6e745",
   "metadata": {},
   "outputs": [],
   "source": [
    "keys = list(data_famliy.keys())"
   ]
  },
  {
   "cell_type": "code",
   "execution_count": 15,
   "id": "ba2626d1-7c7b-4eee-b416-ac1adb71ac1e",
   "metadata": {},
   "outputs": [
    {
     "data": {
      "text/plain": [
       "['Ubuntu-BoldItalic',\n",
       " 'Ubuntu-LightItalic',\n",
       " 'Ubuntu-MediumItalic',\n",
       " 'Ubuntu-Bold',\n",
       " 'Ubuntu-Medium',\n",
       " 'Ubuntu-Regular',\n",
       " 'Ubuntu-Italic',\n",
       " 'Ubuntu-Light',\n",
       " 'UbuntuCondensed-Regular',\n",
       " 'UbuntuMono-Italic',\n",
       " 'UbuntuMono-BoldItalic',\n",
       " 'UbuntuMono-Regular',\n",
       " 'UbuntuMono-Bold']"
      ]
     },
     "execution_count": 15,
     "metadata": {},
     "output_type": "execute_result"
    }
   ],
   "source": [
    "data_famliy[keys[0]][:100]"
   ]
  },
  {
   "cell_type": "code",
   "execution_count": 16,
   "id": "05c31edd-b6fe-4b8d-9013-eb71e08c032b",
   "metadata": {},
   "outputs": [],
   "source": [
    "name = []\n",
    "for key in keys:\n",
    "    nn = data_famliy[key]\n",
    "    for n in nn:\n",
    "        data = n.split('-')[0]\n",
    "        if data not in name:\n",
    "            name.append(data)\n",
    "    "
   ]
  },
  {
   "cell_type": "code",
   "execution_count": 20,
   "id": "8607bb35-0fc4-41f4-8496-0bb50f39d1a3",
   "metadata": {},
   "outputs": [],
   "source": [
    "F_family = open('/home/defuc/sensei-fs-symlink/users/defuc/workspace/SVG_Informer_family_cls/name.pkl','wb')\n",
    "pkl.dump(name,F_family)\n",
    "F_family.close()"
   ]
  },
  {
   "cell_type": "code",
   "execution_count": 24,
   "id": "a54485e9-f361-4b6b-997e-e9f49526d5d7",
   "metadata": {},
   "outputs": [
    {
     "data": {
      "text/plain": [
       "1558"
      ]
     },
     "execution_count": 24,
     "metadata": {},
     "output_type": "execute_result"
    }
   ],
   "source": [
    "len(name)"
   ]
  },
  {
   "cell_type": "code",
   "execution_count": 23,
   "id": "ab96ed8a-da1e-4cd2-9742-d747a226550f",
   "metadata": {},
   "outputs": [],
   "source": [
    "name = []\n",
    "for key in keys:\n",
    "    nn = data_famliy[key]\n",
    "    for n in nn:\n",
    "        data = n.split('-')[0]\n",
    "        data = data.split('[')[0]\n",
    "        if data not in name:\n",
    "            name.append(data)"
   ]
  },
  {
   "cell_type": "code",
   "execution_count": null,
   "id": "6eb941e1-45d4-48f1-afff-9a0d0449d731",
   "metadata": {},
   "outputs": [],
   "source": []
  },
  {
   "cell_type": "code",
   "execution_count": 45,
   "id": "e0682e45-a39d-4804-8dd2-ee7e8caba3ed",
   "metadata": {},
   "outputs": [],
   "source": [
    "path = '/home/defuc/sensei-fs-symlink/users/defuc/workspace/mat/Font_data_before_simply/DeepSVG_format/Val'\n",
    "F_name = open(path+'/data_name.pkl','rb')\n",
    "data_name = pkl.load(F_name)"
   ]
  },
  {
   "cell_type": "code",
   "execution_count": 46,
   "id": "78e049a9-1988-4cfc-bb19-c86c1abce67f",
   "metadata": {},
   "outputs": [
    {
     "data": {
      "text/plain": [
       "['Barlow-Thin_076_L_566_1000-21-L',\n",
       " 'Fraunces[SOFT,WONK,opsz,wght]_076_L_1334_2000-21-L',\n",
       " 'Poly-Italic_081_Q_671_1000-26-Q',\n",
       " 'Syne[wght]_110_n_554_1000-49-n',\n",
       " 'BioRhymeExpanded-ExtraLight_066_B_1269_1000-11-B',\n",
       " 'EkMukta-Bold_056_eight_520_1000-8-8',\n",
       " 'DoHyeon-Regular_048_zero_550_1000-0-0',\n",
       " 'Teko-Bold_119_w_679_1000-58-w',\n",
       " 'Suwannaphum-Thin_116_t_719_2048-55-t',\n",
       " 'AsapVFBeta_107_k_521_1000-46-k']"
      ]
     },
     "execution_count": 46,
     "metadata": {},
     "output_type": "execute_result"
    }
   ],
   "source": [
    "data_name[:10]"
   ]
  },
  {
   "cell_type": "code",
   "execution_count": 47,
   "id": "852daba4-45dd-4416-9842-7c3d39832b08",
   "metadata": {},
   "outputs": [],
   "source": [
    "name_num = {}\n",
    "for n in data_name:\n",
    "        data = n.split('-')[0]\n",
    "        data = data.split('[')[0]\n",
    "        if data not in name_num:\n",
    "            name_num[data]=0\n",
    "        name_num[data]+=1"
   ]
  },
  {
   "cell_type": "code",
   "execution_count": 51,
   "id": "41f50b02-d42d-43ef-acd9-d660b2c9fdc0",
   "metadata": {},
   "outputs": [],
   "source": [
    "kk = list(name_num.keys())\n",
    "length = []\n",
    "for k in kk:\n",
    "    if name_num[k]<50:\n",
    "        continue\n",
    "    length.append(k)\n",
    "    \n"
   ]
  },
  {
   "cell_type": "code",
   "execution_count": 52,
   "id": "41ff66a1-cb1d-474e-9bca-3df00234a09a",
   "metadata": {},
   "outputs": [
    {
     "data": {
      "text/plain": [
       "166"
      ]
     },
     "execution_count": 52,
     "metadata": {},
     "output_type": "execute_result"
    }
   ],
   "source": [
    "len(length)"
   ]
  },
  {
   "cell_type": "code",
   "execution_count": 53,
   "id": "5c8b92d6-2afd-4987-a594-613c9511f991",
   "metadata": {},
   "outputs": [],
   "source": [
    "F_family = open('/home/defuc/sensei-fs-symlink/users/defuc/workspace/SVG_Informer_family_cls/name_val_lg100.pkl','wb')\n",
    "pkl.dump(length,F_family)\n",
    "F_family.close()"
   ]
  },
  {
   "cell_type": "code",
   "execution_count": 37,
   "id": "08959e22-e8d6-41d1-87e6-20a390e7cd76",
   "metadata": {},
   "outputs": [
    {
     "data": {
      "image/png": "[encoded data removed]",
      "text/plain": [
       "<Figure size 432x288 with 1 Axes>"
      ]
     },
     "metadata": {
      "needs_background": "light"
     },
     "output_type": "display_data"
    }
   ],
   "source": [
    "import numpy as np\n",
    "from matplotlib import pyplot as plt \n",
    "\n",
    "a = np.array(length) #np.array([22,87,5,43,56,73,55,54,11,20,51,5,79,31,27]) \n",
    "plt.hist(a, bins =  [0,10,20,30,50]) \n",
    "plt.title(\"histogram\") \n",
    "plt.show()\n",
    "#file.close()"
   ]
  },
  {
   "cell_type": "code",
   "execution_count": null,
   "id": "feaa28d1-4a8c-4caa-bf61-dd50697b170b",
   "metadata": {},
   "outputs": [],
   "source": []
  },
  {
   "cell_type": "code",
   "execution_count": null,
   "id": "253b9ba4-8690-4824-ab1d-f5ff4a5dba67",
   "metadata": {},
   "outputs": [],
   "source": []
  },
  {
   "cell_type": "code",
   "execution_count": null,
   "id": "83db7cf7-f672-4744-8a33-8908b78429f6",
   "metadata": {},
   "outputs": [],
   "source": []
  },
  {
   "cell_type": "code",
   "execution_count": null,
   "id": "0880c2c3-8e0a-4cd1-8601-4a4584402264",
   "metadata": {},
   "outputs": [],
   "source": []
  },
  {
   "cell_type": "code",
   "execution_count": 9,
   "id": "3eeafc99-adcf-4719-a3bd-29ecfcbc61e9",
   "metadata": {},
   "outputs": [],
   "source": [
    "file_enc = open('/home/defuc/sensei-fs-symlink/users/defuc/workspace/Informer2020-font-deepsvg-format/results_deepsvg_format/interpolation_task/enc_by_name.pkl', 'rb')\n",
    "enc_name  = pkl.load(file_enc)\n",
    "file_enc.close()"
   ]
  },
  {
   "cell_type": "code",
   "execution_count": null,
   "id": "4a8dd05c-4eb1-448e-9257-1ae0e4c22731",
   "metadata": {},
   "outputs": [],
   "source": []
  },
  {
   "cell_type": "code",
   "execution_count": 10,
   "id": "1d83c72c-1ec0-434a-a900-5a388208d3d3",
   "metadata": {},
   "outputs": [],
   "source": [
    "key = list(enc_name.keys())"
   ]
  },
  {
   "cell_type": "code",
   "execution_count": 11,
   "id": "363beee6-bae5-47cf-bae8-88a32883dd72",
   "metadata": {},
   "outputs": [
    {
     "data": {
      "text/plain": [
       "(25, 512)"
      ]
     },
     "execution_count": 11,
     "metadata": {},
     "output_type": "execute_result"
    }
   ],
   "source": [
    "enc_name[key[0]].shape"
   ]
  },
  {
   "cell_type": "code",
   "execution_count": 13,
   "id": "e7ef5ba9-1c8a-4c29-9d85-e9d472f3392e",
   "metadata": {},
   "outputs": [
    {
     "data": {
      "text/plain": [
       "['CormorantUpright-SemiBold_121_y_478_1000-60-y',\n",
       " 'ShipporiMincho-SemiBold_056_eight_614_1000-8-8',\n",
       " 'Devonshire-Regular_054_six_410_1000-6-6',\n",
       " 'BarlowSemiCondensed-Bold_057_nine_482_1000-9-9',\n",
       " 'IBMPlexSerif-Thin_105_i_266_1000-44-i',\n",
       " 'BlakaInk-Regular_079_O_441_1000-24-O',\n",
       " 'Merriweather-Regular_085_U_740_1000-30-U',\n",
       " 'FrankRuhlLibre-Bold_089_Y_652_1000-34-Y',\n",
       " 'Lato-BoldItalic_075_K_1283_2000-20-K',\n",
       " 'MoonDance-Regular_085_U_672_1000-30-U',\n",
       " 'Mali-SemiBold_109_m_795_1000-48-m',\n",
       " 'AbrilFatface-Regular_066_B_659_1000-11-B',\n",
       " 'Mulish-Italic[wght]_105_i_218_1000-44-i',\n",
       " 'Explora-Regular_118_v_278_1000-57-v',\n",
       " 'BIZUDMincho-Regular_120_x_1024_2048-59-x',\n",
       " 'DMSans-Regular_069_E_564_1000-14-E',\n",
       " 'Yellowtail-Regular_104_h_805_2048-43-h',\n",
       " 'Jost-Italic[wght]_052_four_566_1000-4-4',\n",
       " 'Kavivanar-Regular_115_s_511_1000-54-s',\n",
       " 'Lalezar-Regular_114_r_379_1000-53-r',\n",
       " 'Palanquin-Light_122_z_472_1000-61-z',\n",
       " 'Andika-Bold_069_E_1212_2048-14-E',\n",
       " 'RedHatText-Italic[wght]_066_B_640_1000-11-B',\n",
       " 'Yellowtail-Regular_050_two_770_2048-2-2',\n",
       " 'Livvic-Medium_065_A_680_1000-10-A',\n",
       " 'Sarabun-Bold_113_q_565_1000-52-q',\n",
       " 'Ubuntu-Bold_088_X_675_1000-33-X',\n",
       " 'AlegreyaSans-BoldItalic_108_l_256_1000-47-l',\n",
       " 'Tomorrow-Black_087_W_1214_1000-32-W',\n",
       " 'Imbue[opsz,wght]_052_four_547_2000-4-4',\n",
       " 'Dosis[wght]_120_x_381_1000-59-x',\n",
       " 'IndieFlower-Regular_072_H_581_1000-17-H',\n",
       " 'Teko-Medium_069_E_374_1000-14-E',\n",
       " 'Kanit-Italic_049_one_319_1000-1-1',\n",
       " 'IBMPlexSerif-ExtraLightItalic_101_e_429_1000-40-e',\n",
       " 'HindSiliguri-Medium_073_I_264_1000-18-I',\n",
       " 'Khula-SemiBold_102_f_669_1978-41-f',\n",
       " 'BaiJamjuree-Medium_100_d_587_1000-39-d',\n",
       " 'GenBkBasB_105_i_635_2048-44-i',\n",
       " 'Schoolbell-Regular_108_l_215_1024-47-l',\n",
       " 'BlackHanSans-Regular_122_z_636_1000-61-z',\n",
       " 'Trirong-ExtraBoldItalic_075_K_795_1000-20-K',\n",
       " 'AndadaPro[wght]_113_q_540_1000-52-q',\n",
       " 'GowunDodum-Regular_097_a_480_1000-36-a',\n",
       " 'Trirong-Regular_103_g_526_1000-42-g',\n",
       " 'Akshar[wght]_118_v_459_1000-57-v',\n",
       " 'Preahvihear-Regular_100_d_1354_2048-39-d',\n",
       " 'ArefRuqaaInk-Bold_118_v_552_1000-57-v',\n",
       " 'SometypeMono-Italic_097_a_580_1000-36-a',\n",
       " 'Gupter-Medium_102_f_348_1000-41-f',\n",
       " 'IBMPlexSansThai-Thin_053_five_600_1000-5-5',\n",
       " 'Overpass-Italic[wght]_088_X_1138_2000-33-X',\n",
       " 'ComingSoon-Regular_105_i_245_1024-44-i',\n",
       " 'TsukimiRounded-Regular_083_S_622_1000-28-S',\n",
       " 'AlegreyaSansSC-Regular_056_eight_474_1000-8-8',\n",
       " 'Oxygen-Light_055_seven_1059_2048-7-7',\n",
       " 'AndikaNewBasic-Italic_068_D_1421_2048-13-D',\n",
       " 'BowlbyOneSC-Regular_085_U_1614_2048-30-U',\n",
       " 'ElsieSwashCaps-Regular_114_r_408_1000-53-r',\n",
       " 'Allan-Regular_082_R_921_2048-27-R',\n",
       " 'Inconsolata-CondensedRegular_080_P_400_1000-25-P',\n",
       " 'VollkornSC-Bold_085_U_687_1000-30-U',\n",
       " 'JustMeAgainDownHere_085_U_407_1000-30-U',\n",
       " 'BIZUDMincho-Regular_107_k_1024_2048-46-k',\n",
       " 'Inconsolata-ExpandedSemiBold_070_F_600_1000-15-F',\n",
       " 'FasterOne-Regular_078_N_851_1000-23-N',\n",
       " 'Solway-Regular_110_n_618_1000-49-n',\n",
       " 'AveriaSansLibre-LightItalic_080_P_1123_2048-25-P',\n",
       " 'FiraSans-BoldItalic_075_K_623_1000-20-K',\n",
       " 'StintUltraCondensed-Regular_114_r_479_2048-53-r',\n",
       " 'Krub-BoldItalic_090_Z_580_1000-35-Z',\n",
       " 'PT_Serif-Web-BoldItalic_067_C_652_1000-12-C',\n",
       " 'Poppins-SemiBold_084_T_577_1000-29-T',\n",
       " 'CormorantUpright-Bold_111_o_437_1000-50-o',\n",
       " 'BeVietnamPro-MediumItalic_122_z_512_1000-61-z',\n",
       " 'HammersmithOne-Regular_121_y_1025_2048-60-y',\n",
       " 'DavidLibre-Regular_071_G_1194_2048-16-G',\n",
       " 'Taviraj-ThinItalic_098_b_502_1000-37-b',\n",
       " 'OpenSansHebrewCondensed-Italic_108_l_419_2048-47-l',\n",
       " 'ShipporiMincho-ExtraBold_111_o_589_1000-50-o',\n",
       " 'MuktaMalar-Bold_048_zero_509_1000-0-0',\n",
       " 'Sarpanch-Bold_111_o_647_1000-50-o',\n",
       " 'UbuntuMono-Italic_078_N_500_1000-23-N',\n",
       " 'DMSerifDisplay-Regular_104_h_580_1000-43-h',\n",
       " 'RoundedMplus1c-Regular_114_r_450_1000-53-r',\n",
       " 'Finlandica-Italic[wght]_087_W_615_1000-32-W',\n",
       " 'Andika-Bold_116_t_885_2048-55-t',\n",
       " 'Inconsolata-UltraCondensedBlack_079_O_250_1000-24-O',\n",
       " 'MochiyPopOne-Regular_080_P_822_1000-25-P',\n",
       " 'Alegreya-Italic[wght]_120_x_462_1000-59-x',\n",
       " 'BalooTammudu2[wght]_085_U_649_1000-30-U',\n",
       " 'EncodeSansExpanded-Regular_066_B_1387_2000-11-B',\n",
       " 'Forum-Regular_120_x_466_1000-59-x',\n",
       " 'Biryani-SemiBold_057_nine_550_1000-9-9',\n",
       " 'Trirong-LightItalic_109_m_879_1000-48-m',\n",
       " 'Ranga-Regular_114_r_577_2218-53-r',\n",
       " 'Joan-Regular_115_s_371_1000-54-s',\n",
       " 'FiraSans-ExtraBoldItalic_110_n_564_1000-49-n',\n",
       " 'Dongle-Regular_115_s_290_1000-54-s',\n",
       " 'Fahkwang-Regular_087_W_994_1000-32-W']"
      ]
     },
     "execution_count": 13,
     "metadata": {},
     "output_type": "execute_result"
    }
   ],
   "source": [
    "key[:100]"
   ]
  },
  {
   "cell_type": "code",
   "execution_count": null,
   "id": "5a98416f-0094-4d21-8034-be576115af81",
   "metadata": {},
   "outputs": [],
   "source": []
  }
 ],
 "metadata": {
  "kernelspec": {
   "display_name": "layout",
   "language": "python",
   "name": "layout"
  },
  "language_info": {
   "codemirror_mode": {
    "name": "ipython",
    "version": 3
   },
   "file_extension": ".py",
   "mimetype": "text/x-python",
   "name": "python",
   "nbconvert_exporter": "python",
   "pygments_lexer": "ipython3",
   "version": "3.8.13"
  }
 },
 "nbformat": 4,
 "nbformat_minor": 5
}
