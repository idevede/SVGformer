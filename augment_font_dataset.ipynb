{
 "cells": [
  {
   "cell_type": "code",
   "execution_count": 1,
   "id": "2de83e1a-7453-46ee-abef-11cfa777fdbc",
   "metadata": {},
   "outputs": [],
   "source": [
    "import os\n",
    "os.chdir(\"../deepsvg_own_data\")\n",
    "from deepsvg.svglib.geom import Point\n",
    "from deepsvg.svglib.svg import SVG\n",
    "from deepsvg.svglib.svg_path import SVGPath\n",
    "from deepsvg.svglib.utils import to_gif\n",
    "\n",
    "from deepsvg.difflib.tensor import SVGTensor\n",
    "from deepsvg.difflib.utils import *\n",
    "from deepsvg.difflib.loss import *\n",
    "from deepsvg.svglib.geom import Bbox"
   ]
  },
  {
   "cell_type": "code",
   "execution_count": 15,
   "id": "ae735105-ae13-4f7e-99ad-c1dbdce2d2a1",
   "metadata": {},
   "outputs": [],
   "source": [
    "import random\n",
    "def load_svg(path, file):\n",
    "        svg = SVG.load_svg(os.path.join(path, file))\n",
    "\n",
    "        #if not self.already_preprocessed:\n",
    "        svg.fill_(False)\n",
    "        svg.normalize().zoom(0.9)\n",
    "        svg.canonicalize()\n",
    "        svg = svg.simplify_heuristic()\n",
    "\n",
    "        return svg\n",
    "\n",
    "def _augment(svg, mean=False):\n",
    "    dx, dy = (0, 0) if mean else (5 * random.random() - 2.5, 5 * random.random() - 2.5)\n",
    "    factor = 0.7 if mean else 0.2 * random.random() + 0.6\n",
    "\n",
    "    return svg.zoom(factor).translate(Point(dx, dy))\n",
    "\n",
    "\n",
    "def simplify(svg, normalize=True):\n",
    "    svg.canonicalize(normalize=normalize)\n",
    "    svg = svg.simplify_heuristic()\n",
    "    return svg.normalize()\n",
    "\n",
    "def preprocess(svg, augment=True, numericalize=False, mean=False):\n",
    "        if augment:\n",
    "            svg = _augment(svg, mean=mean)\n",
    "        if numericalize:\n",
    "            return svg.numericalize(256)\n",
    "        return svg\n"
   ]
  },
  {
   "cell_type": "code",
   "execution_count": 3,
   "id": "0cd80ac6-bae5-40ec-8000-cfea559956a1",
   "metadata": {},
   "outputs": [],
   "source": [
    "import pickle as pkl\n",
    "path = \"/home/defuc/sensei-fs-symlink/users/defuc/dataset/Dataset_font/DeepSVG_format/Train_name\"\n",
    "F_data = open(path+'/data.pkl','rb')\n",
    "F_name = open(path+'/data_name.pkl','rb')\n",
    "data_pkl = pkl.load(F_data)\n",
    "data_name = pkl.load(F_name)"
   ]
  },
  {
   "cell_type": "code",
   "execution_count": 9,
   "id": "c316ebae-acaa-4af3-bd93-80bc96bc66c1",
   "metadata": {},
   "outputs": [],
   "source": [
    "root_path = '/home/defuc/sensei-fs-symlink/users/defuc/dataset/Dataset_font/Train/svg'\n",
    "files= os.listdir(root_path)"
   ]
  },
  {
   "cell_type": "code",
   "execution_count": 35,
   "id": "1321d537-7d88-4b25-997f-29f64ceda44a",
   "metadata": {},
   "outputs": [],
   "source": [
    "data = load_svg(root_path, files[0])"
   ]
  },
  {
   "cell_type": "code",
   "execution_count": 36,
   "id": "015d3680-9a08-47bf-bf04-6f7305e3e8de",
   "metadata": {},
   "outputs": [
    {
     "data": {
      "image/svg+xml": [
       "<svg height=\"200px\" viewBox=\"0.0 0.0 24.0 24.0\" width=\"200px\" xmlns=\"http://www.w3.org/2000/svg\"><path d=\"M12.2694091796875 3.009489059448242 L12.2694091796875 3.009489059448242 C13.584434509277344 3.1116743087768555 14.106257438659668 3.029571056365967 15.310731887817383 3.5842275619506836 C16.976009368896484 4.351082801818848 17.826255798339844 5.616944789886475 18.06106185913086 7.052166938781738 C18.295867919921875 8.487388610839844 17.915237426757812 10.091971397399902 17.118762969970703 11.53626823425293 C16.536941528320312 12.591320037841797 15.647027015686035 13.545393943786621 14.685789108276367 14.43218994140625 C13.724552154541016 15.318984985351562 12.69199275970459 16.13850212097168 11.824884414672852 16.9244384765625 L18.533157348632812 17.045671463012695 L18.533157348632812 20.992504119873047 L12.101028442382812 20.992504119873047 L5.6688995361328125 20.992504119873047 L5.6688995361328125 17.84042739868164 L9.99290657043457 13.462536811828613 C11.012900352478027 12.373953819274902 12.590171813964844 11.031655311584473 13.212337493896484 9.596525192260742 C13.742653846740723 8.373260498046875 13.280559539794922 7.0084404945373535 11.7305908203125 7.037144184112549 C10.252132415771484 7.064523696899414 9.169196128845215 8.082026481628418 8.107046127319336 8.936474800109863 L5.466842174530029 5.851747035980225 C6.548450469970703 4.947977066040039 7.5397629737854 4.29012393951416 8.615338325500488 3.831857442855835 C9.690913200378418 3.3735909461975098 10.850749969482422 3.1149113178253174 12.2694091796875 3.009489059448242 L12.2694091796875 3.009489059448242\" fill=\"none\" filling=\"0\" stroke=\"black\" stroke-opacity=\"1.0\" stroke-width=\".3\"/></svg>"
      ],
      "text/plain": [
       "<IPython.core.display.SVG object>"
      ]
     },
     "metadata": {},
     "output_type": "display_data"
    }
   ],
   "source": [
    "data.draw()"
   ]
  },
  {
   "cell_type": "code",
   "execution_count": 34,
   "id": "aab29d8c-1adb-4424-8c06-698115c9e341",
   "metadata": {},
   "outputs": [
    {
     "data": {
      "text/plain": [
       "'<svg xmlns=\"http://www.w3.org/2000/svg\" viewBox=\"0.0 0.0 24.0 24.0\" height=\"200px\" width=\"200px\"><path fill=\"none\" stroke=\"black\" stroke-width=\".3\" stroke-opacity=\"1.0\"  filling=\"0\" d=\"M14.58714485168457 3.385560989379883 L14.58714485168457 3.385560989379883 C15.830913543701172 3.824618339538574 16.356204986572266 3.88037109375 17.376083374023438 4.727868556976318 C18.78614044189453 5.899599552154541 19.279787063598633 7.342388153076172 19.135129928588867 8.789478302001953 C18.99047088623047 10.236568450927734 18.207515716552734 11.68796157836914 17.064369201660156 12.87690258026123 C16.229305267333984 13.745418548583984 15.122779846191406 14.43665599822998 13.964776039123535 15.044448852539062 C12.80677318572998 15.652240753173828 11.5972900390625 16.176586151123047 10.556312561035156 16.711318969726562 L17.004629135131836 18.56464958190918 L15.983114242553711 22.376996994018555 L9.77015495300293 20.712238311767578 L3.5571956634521484 19.047481536865234 L4.373013019561768 16.002809524536133 L9.682764053344727 12.893228530883789 C10.949748992919922 12.105731010437012 12.820688247680664 11.217398643493652 13.793092727661133 9.99219799041748 C14.621943473815918 8.947870254516602 14.528836250305176 7.509957313537598 13.024251937866211 7.136520862579346 C11.58908462524414 6.7803144454956055 10.279699325561523 7.48286247253418 9.032593727111816 8.03329086303711 L7.280738830566406 4.370337963104248 C8.559405326843262 3.7773046493530273 9.687204360961914 3.3984375 10.844738960266113 3.2341651916503906 C12.002272605895996 3.0698928833007812 13.189539909362793 3.12021541595459 14.58714485168457 3.385560989379883 L14.58714485168457 3.385560989379883\"></path></svg>'"
      ]
     },
     "execution_count": 40,
     "metadata": {},
     "output_type": "execute_result"
    }
   ],
   "source": [
    "#preprocess(data)\n",
    "data.draw()"
   ]
  },
  {
   "cell_type": "code",
   "execution_count": 37,
   "id": "2e4be8e9-c7a0-4855-8953-83b10d7146a0",
   "metadata": {},
   "outputs": [],
   "source": [
    "\n",
    "data2 = data.rotate(Angle(15)) "
   ]
  },
  {
   "cell_type": "code",
   "execution_count": 42,
   "id": "8614902e-7672-41a3-9adc-cb732a42497b",
   "metadata": {},
   "outputs": [],
   "source": [
    "root_path_aug = '/home/defuc/sensei-fs-symlink/users/defuc/dataset/Dataset_font/Train/svg_augment/'"
   ]
  },
  {
   "cell_type": "code",
   "execution_count": 43,
   "id": "33d3ce3e-7c46-41c3-a138-80508d34dcde",
   "metadata": {},
   "outputs": [],
   "source": [
    "! mkdir /home/defuc/sensei-fs-symlink/users/defuc/dataset/Dataset_font/Train/svg_augment/"
   ]
  },
  {
   "cell_type": "code",
   "execution_count": 45,
   "id": "d2c710b5-a9b4-4df6-803c-c668d407a41a",
   "metadata": {},
   "outputs": [],
   "source": [
    "data_npy = []\n",
    "data_labels = []\n",
    "data_length = []\n",
    "data_name = []\n",
    "max_length = 0\n",
    "train_data_dic = {}\n",
    "\n",
    "def data_add(data, name):\n",
    "    data_tensor = data.to_tensor(concat_groups=True, PAD_VAL=-1)\n",
    "    data_tensor = np.array(data_tensor)\n",
    "    data_less_col = data_tensor[:,6:]\n",
    "    data_label = data_tensor[:,:1]\n",
    "    data_npy.append(data_less_col)\n",
    "    data_labels.append(data_label.squeeze())\n",
    "    train_data_dic[name] = data_less_col\n",
    "    data_name.append(name)\n",
    "    \n",
    "    # if len(np.unique(data_label))>3:\n",
    "    #     print(np.unique(data_label))\n",
    "    data_length.append(len(data_less_col))    \n",
    "    # if len(data_less_col)>max_length:\n",
    "    #     max_length = len(data_less_col)\n",
    "    return #max_length\n",
    "\n",
    "for file in files:\n",
    "#     data = load_svg(root_path, file)\n",
    "    \n",
    "#     data_add(data, file[:-4])\n",
    "    \n",
    "    data = load_svg(root_path, file).rotate(Angle(45)) \n",
    "    \n",
    "    data.save_svg(root_path_aug + file[:-4]+'@45.svg')\n",
    "    \n",
    "    \n",
    "    data_add(data, file[:-4]+'@45')\n",
    "    \n",
    "    data = load_svg(root_path, file).rotate(Angle(90)) \n",
    "    \n",
    "    data.save_svg(root_path_aug + file[:-4]+'@90.svg')\n",
    "    \n",
    "    data_add(data, file[:-4]+'@90')\n",
    "    \n",
    "    data = load_svg(root_path, file).rotate(Angle(135)) \n",
    "    \n",
    "    data.save_svg(root_path_aug + file[:-4]+'@135.svg')\n",
    "    \n",
    "    data_add(data, file[:-4]+'@135')\n",
    "    \n",
    "    data = load_svg(root_path, file).rotate(Angle(180)) \n",
    "    \n",
    "    data.save_svg(root_path_aug + file[:-4]+'@180.svg')\n",
    "    \n",
    "    data_add(data, file[:-4]+'@180')\n",
    "    \n",
    "    data = load_svg(root_path, file)\n",
    "    \n",
    "    data = preprocess(data)\n",
    "    \n",
    "    data.save_svg(root_path_aug + file[:-4]+'@aug.svg')\n",
    "    \n",
    "    data_add(data, file[:-4]+'@aug')\n",
    "    \n",
    "    "
   ]
  },
  {
   "cell_type": "code",
   "execution_count": null,
   "id": "e7ee9076-167d-4bc3-b509-777183261020",
   "metadata": {},
   "outputs": [],
   "source": []
  }
 ],
 "metadata": {
  "kernelspec": {
   "display_name": "deepsvg",
   "language": "python",
   "name": "deepsvg"
  },
  "language_info": {
   "codemirror_mode": {
    "name": "ipython",
    "version": 3
   },
   "file_extension": ".py",
   "mimetype": "text/x-python",
   "name": "python",
   "nbconvert_exporter": "python",
   "pygments_lexer": "ipython3",
   "version": "3.7.13"
  }
 },
 "nbformat": 4,
 "nbformat_minor": 5
}
