{
 "cells": [
  {
   "cell_type": "code",
   "execution_count": 1,
   "id": "2165ca29-b9a1-4e57-b6dc-0ab320ef9d37",
   "metadata": {},
   "outputs": [],
   "source": [
    "import pickle as pkl"
   ]
  },
  {
   "cell_type": "code",
   "execution_count": 2,
   "id": "cd64a8cb-62eb-460d-84cb-927eb0c1f6ce",
   "metadata": {},
   "outputs": [],
   "source": [
    "\n",
    "import os\n",
    "os.chdir(\"../deepsvg_own_data\")\n",
    "from deepsvg.svglib.geom import Point\n",
    "from deepsvg.svglib.svg import SVG\n",
    "from deepsvg.svglib.svg_path import SVGPath\n",
    "from deepsvg.svglib.utils import to_gif\n",
    "\n",
    "from deepsvg.difflib.tensor import SVGTensor\n",
    "from deepsvg.difflib.utils import *\n",
    "from deepsvg.difflib.loss import *\n",
    "from deepsvg.svglib.geom import Bbox\n",
    "import numpy as np"
   ]
  },
  {
   "cell_type": "code",
   "execution_count": 3,
   "id": "1b02bd47-2625-46d8-b4e9-b9de52c3e4d2",
   "metadata": {},
   "outputs": [],
   "source": [
    "path = '../SVG_Informer_new_feature/results_deepsvg_format/'"
   ]
  },
  {
   "cell_type": "code",
   "execution_count": 5,
   "id": "827c9161-eadd-4a61-9a53-39da2418bcda",
   "metadata": {},
   "outputs": [
    {
     "data": {
      "text/plain": [
       "['Lable_categ_informer_Fonts_ftM_sl96_ll48_pl24_dm512_nh8_el2_dl1_df2048_atprob_fc5_ebtimeF_dtTrue_mxTrue_test_0debug',\n",
       " 'CCNN_informer_Fonts_ftM_sl96_ll48_pl24_dm512_nh8_el2_dl1_df2048_atprob_fc5_ebtimeF_dtTrue_mxTrue_test_0debug',\n",
       " 'Curve_embeddingdebug',\n",
       " 'informer_Fonts_ftM_sl96_ll48_pl24_dm512_nh8_el2_dl1_df2048_atprob_fc5_ebtimeF_dtTrue_mxTrue_test_0debug',\n",
       " 'No_Curve_embeddingdebug',\n",
       " 'Curve_embedding_distance',\n",
       " 'retrieval_task',\n",
       " 'Curve_embedding_lookup_tabledebug',\n",
       " 'Curve_ori_dataset',\n",
       " 'Curve_embedding_distance_70',\n",
       " 'Curve_embedding_No_poolingdebug']"
      ]
     },
     "execution_count": 5,
     "metadata": {},
     "output_type": "execute_result"
    }
   ],
   "source": [
    "files = os.listdir(path)\n",
    "files"
   ]
  },
  {
   "cell_type": "code",
   "execution_count": 6,
   "id": "084a6569-de26-401e-9a5b-0041c502b0a9",
   "metadata": {},
   "outputs": [],
   "source": [
    "flag = True\n",
    "for file in files:\n",
    "    #if file != 'Curve_embedding_distance_70':\n",
    "    if file != 'Curve_ori_dataset':\n",
    "        continue\n",
    "    plot_path = path+file\n",
    "    filea = open(plot_path +'/true_by_name.pkl', 'rb')\n",
    "    label_informer = pkl.load(filea)\n",
    "    filea = open(plot_path +'/pred_by_name.pkl', 'rb')\n",
    "    pred_informer = pkl.load(filea)\n",
    "    filea.close()\n",
    "    kk = list(pred_informer.keys())\n",
    "    save_path = '../SVG_Informer_new_feature/results_deepsvg_format_plot/'+str(file)+'_aug/'\n",
    "    save_label  = save_path+'label/'\n",
    "    save_pred = save_path+'pred/'\n",
    "    \n",
    "    os.makedirs(save_pred, exist_ok=True)\n",
    "    \n",
    "    for k in kk:\n",
    "        SVG.from_tensor(torch.tensor(pred_informer[k])).save_svg(save_pred+ k+'.svg')\n",
    "    \n",
    "    if flag:\n",
    "        os.makedirs(save_label, exist_ok=True)\n",
    "        for k in kk:\n",
    "            SVG.from_tensor(torch.tensor(label_informer[k])).save_svg(save_label+ k+'.svg')\n",
    "    flag = False"
   ]
  },
  {
   "cell_type": "code",
   "execution_count": 6,
   "id": "11acb526-1fa2-45b0-a98e-ccd536cc3a5b",
   "metadata": {},
   "outputs": [
    {
     "data": {
      "text/plain": [
       "'Curve_embedding_No_poolingdebug'"
      ]
     },
     "execution_count": 6,
     "metadata": {},
     "output_type": "execute_result"
    }
   ],
   "source": [
    "file"
   ]
  },
  {
   "cell_type": "code",
   "execution_count": null,
   "id": "4f08b8da-bd0f-4248-892f-219064c829f5",
   "metadata": {},
   "outputs": [],
   "source": []
  }
 ],
 "metadata": {
  "kernelspec": {
   "display_name": "deepsvg",
   "language": "python",
   "name": "deepsvg"
  },
  "language_info": {
   "codemirror_mode": {
    "name": "ipython",
    "version": 3
   },
   "file_extension": ".py",
   "mimetype": "text/x-python",
   "name": "python",
   "nbconvert_exporter": "python",
   "pygments_lexer": "ipython3",
   "version": "3.7.13"
  }
 },
 "nbformat": 4,
 "nbformat_minor": 5
}
